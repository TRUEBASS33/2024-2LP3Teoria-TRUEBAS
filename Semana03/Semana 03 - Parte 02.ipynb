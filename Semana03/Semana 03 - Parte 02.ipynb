{
 "cells": [
  {
   "cell_type": "markdown",
   "id": "1dcd8860",
   "metadata": {},
   "source": [
    "# Semana 03 - Parte 02"
   ]
  },
  {
   "cell_type": "markdown",
   "id": "17f9c39b",
   "metadata": {},
   "source": [
    "Autor: Mg. Daniel Lévano / Mg. Flor Cerdán\n",
    "Temas:\n",
    "1. Colecciones de datos\n",
    "2. Estructuras Decisivas y Estructuras Repetitivas\n",
    "3. Funciones\n",
    "4. Clases y objetos"
   ]
  },
  {
   "cell_type": "markdown",
   "id": "12a3b86a",
   "metadata": {},
   "source": [
    "*1*. Colecciones"
   ]
  },
  {
   "cell_type": "code",
   "execution_count": 1,
   "id": "37095fa7",
   "metadata": {},
   "outputs": [
    {
     "name": "stdout",
     "output_type": "stream",
     "text": [
      "['Bernaola', 'Chipana', 'Gomez', 'Navarro']\n"
     ]
    }
   ],
   "source": [
    "# 1.1. Listas\n",
    "# Es una colección de elementos que puede ser ordenada, modificada, etc..\n",
    "# Se identifica por los corchetes\n",
    "# Ejemplo:\n",
    "aula = ['Bernaola','Chipana','Gomez','Navarro']\n",
    "print(aula)"
   ]
  },
  {
   "cell_type": "code",
   "execution_count": 2,
   "id": "9fd2972f",
   "metadata": {},
   "outputs": [
    {
     "data": {
      "text/plain": [
       "['Bernaola', 'Chipana', 'Gomez', 'Navarro']"
      ]
     },
     "execution_count": 2,
     "metadata": {},
     "output_type": "execute_result"
    }
   ],
   "source": [
    "# Tambien se puede imprimir con solo mencional la lista\n",
    "aula"
   ]
  },
  {
   "cell_type": "code",
   "execution_count": 3,
   "id": "10ce8854",
   "metadata": {},
   "outputs": [
    {
     "name": "stdout",
     "output_type": "stream",
     "text": [
      "Bernaola\n",
      "Chipana\n"
     ]
    }
   ],
   "source": [
    "# Podemos extraer cada elemento por su posición\n",
    "print(aula[0])\n",
    "print(aula[1])"
   ]
  },
  {
   "cell_type": "code",
   "execution_count": 4,
   "id": "3c11760f",
   "metadata": {},
   "outputs": [
    {
     "data": {
      "text/plain": [
       "'Chavez'"
      ]
     },
     "execution_count": 4,
     "metadata": {},
     "output_type": "execute_result"
    }
   ],
   "source": [
    "# Puedo asignar un valor a una posición de la lista\n",
    "aula[1] = 'Chavez'\n",
    "aula[1]"
   ]
  },
  {
   "cell_type": "code",
   "execution_count": 5,
   "id": "3cff8bc2",
   "metadata": {},
   "outputs": [
    {
     "data": {
      "text/plain": [
       "['Bernaola', 'Chavez', 'Gomez', 'Navarro']"
      ]
     },
     "execution_count": 5,
     "metadata": {},
     "output_type": "execute_result"
    }
   ],
   "source": [
    "# Mostramos como quedó la lista\n",
    "aula"
   ]
  },
  {
   "cell_type": "code",
   "execution_count": 7,
   "id": "0e6ec6b2",
   "metadata": {},
   "outputs": [
    {
     "data": {
      "text/plain": [
       "['Bernaola', 'Chavez', 'Gomez', 'Navarro', 'Hermitaño', 'Gomez']"
      ]
     },
     "execution_count": 7,
     "metadata": {},
     "output_type": "execute_result"
    }
   ],
   "source": [
    "# Para agregar un elemento utilizamos append\n",
    "aula.append(\"Hermitaño\")\n",
    "aula.append(\"Gomez\")\n",
    "aula"
   ]
  },
  {
   "cell_type": "code",
   "execution_count": 8,
   "id": "953b9c8c",
   "metadata": {},
   "outputs": [
    {
     "data": {
      "text/plain": [
       "['Chavez', 'Gomez', 'Navarro', 'Hermitaño', 'Gomez']"
      ]
     },
     "execution_count": 8,
     "metadata": {},
     "output_type": "execute_result"
    }
   ],
   "source": [
    "# Para eliminar elementos utilizamos remove[]\n",
    "aula.remove(\"Bernaola\")\n",
    "aula"
   ]
  },
  {
   "cell_type": "code",
   "execution_count": 9,
   "id": "e7af06b3",
   "metadata": {},
   "outputs": [
    {
     "data": {
      "text/plain": [
       "['Chavez', 'Navarro', 'Hermitaño', 'Gomez']"
      ]
     },
     "execution_count": 9,
     "metadata": {},
     "output_type": "execute_result"
    }
   ],
   "source": [
    "# Si hubiera varios elementos de valores iguales se elimina la primera coincidencia\n",
    "aula.remove(\"Gomez\")\n",
    "aula"
   ]
  },
  {
   "cell_type": "code",
   "execution_count": 10,
   "id": "ab4bcaf2",
   "metadata": {},
   "outputs": [
    {
     "data": {
      "text/plain": [
       "4"
      ]
     },
     "execution_count": 10,
     "metadata": {},
     "output_type": "execute_result"
    }
   ],
   "source": [
    "# Para obtener el tamaño utilizamos len()\n",
    "len(aula)"
   ]
  },
  {
   "cell_type": "code",
   "execution_count": 11,
   "id": "9df9378d",
   "metadata": {},
   "outputs": [
    {
     "name": "stdout",
     "output_type": "stream",
     "text": [
      "Chavez\n",
      "Navarro\n",
      "Hermitaño\n",
      "Gomez\n"
     ]
    }
   ],
   "source": [
    "# Para recorrrer podemos utilizar una estructura repetitiva\n",
    "for alumno in aula:\n",
    "    print(alumno)"
   ]
  },
  {
   "cell_type": "code",
   "execution_count": 12,
   "id": "14faa6ff",
   "metadata": {},
   "outputs": [
    {
     "data": {
      "text/plain": [
       "['Gomez', 'Hermitaño', 'Navarro', 'Chavez']"
      ]
     },
     "execution_count": 12,
     "metadata": {},
     "output_type": "execute_result"
    }
   ],
   "source": [
    "# Para invertir la lista utilizamos reverse()\n",
    "# invertir NO significa ordenar en forma descendente sin invertir la lista\n",
    "aula.reverse()\n",
    "aula"
   ]
  },
  {
   "cell_type": "code",
   "execution_count": 13,
   "id": "1f15d585",
   "metadata": {},
   "outputs": [
    {
     "data": {
      "text/plain": [
       "['Chavez', 'Gomez', 'Hermitaño', 'Navarro']"
      ]
     },
     "execution_count": 13,
     "metadata": {},
     "output_type": "execute_result"
    }
   ],
   "source": [
    "# Parar ordenar una lista utilizamos sort()\n",
    "aula.sort()\n",
    "aula"
   ]
  },
  {
   "cell_type": "code",
   "execution_count": 14,
   "id": "69c32c9b",
   "metadata": {},
   "outputs": [
    {
     "data": {
      "text/plain": [
       "('Bernaola', 'Chipana', 'Gomez', 'Navarro')"
      ]
     },
     "execution_count": 14,
     "metadata": {},
     "output_type": "execute_result"
    }
   ],
   "source": [
    "# 1.2 Tuplas\n",
    "# Es una colección de elementos ordenada (Ordenado significa que tiene un índice) que no se pueden modificar, es inalterable.\n",
    "# No se pueden agregar elementos ni eliminar.\n",
    "# se identifica por los parentesis\n",
    "tupla_aula = ('Bernaola','Chipana','Gomez','Navarro')\n",
    "tupla_aula"
   ]
  },
  {
   "cell_type": "code",
   "execution_count": 15,
   "id": "72dcff0a",
   "metadata": {},
   "outputs": [
    {
     "data": {
      "text/plain": [
       "('Bernaola', 'Chipana', 'Gomez', 'Navarro')"
      ]
     },
     "execution_count": 15,
     "metadata": {},
     "output_type": "execute_result"
    }
   ],
   "source": [
    "# 1.2 Tuplas\n",
    "# Es una colección de elementos ordenada (Ordenado significa que tiene un índice) que no se pueden modificar, es inalterable.\n",
    "# No se pueden agregar elementos ni eliminar.\n",
    "# se identifica por los parentesis\n",
    "tupla_aula = ('Bernaola','Chipana','Gomez','Navarro')\n",
    "tupla_aula"
   ]
  },
  {
   "cell_type": "code",
   "execution_count": 16,
   "id": "7b858eb2",
   "metadata": {},
   "outputs": [
    {
     "data": {
      "text/plain": [
       "'Gomez'"
      ]
     },
     "execution_count": 16,
     "metadata": {},
     "output_type": "execute_result"
    }
   ],
   "source": [
    "# Se puede extraer un elemento por su posición\n",
    "tupla_aula[2]"
   ]
  },
  {
   "cell_type": "code",
   "execution_count": 17,
   "id": "cbd9f3d2",
   "metadata": {},
   "outputs": [
    {
     "data": {
      "text/plain": [
       "4"
      ]
     },
     "execution_count": 17,
     "metadata": {},
     "output_type": "execute_result"
    }
   ],
   "source": [
    "# Para saber la cantidad de elementos de una tupla utilizamos len()\n",
    "len(tupla_aula)"
   ]
  },
  {
   "cell_type": "code",
   "execution_count": 18,
   "id": "5d5c591a",
   "metadata": {},
   "outputs": [
    {
     "data": {
      "text/plain": [
       "{'Bernaola', 'Chipana', 'Gomez', 'Navarro'}"
      ]
     },
     "execution_count": 18,
     "metadata": {},
     "output_type": "execute_result"
    }
   ],
   "source": [
    "# 1.3 Conjuntos\n",
    "# Es una colección de elementos que no está ordenado\n",
    " # (Significa que no tiene un índice)\n",
    "conjunto_aula = {'Bernaola','Chipana','Gomez','Navarro'}\n",
    "conjunto_aula"
   ]
  },
  {
   "cell_type": "code",
   "execution_count": 19,
   "id": "17c01c37",
   "metadata": {},
   "outputs": [
    {
     "name": "stdout",
     "output_type": "stream",
     "text": [
      "Navarro\n",
      "Gomez\n",
      "Chipana\n",
      "Bernaola\n"
     ]
    }
   ],
   "source": [
    "# Se puede recorrer utilizando una estructura repetitiva\n",
    "# Ejemplo: for\n",
    "for alumno in conjunto_aula:\n",
    "    print(alumno)"
   ]
  },
  {
   "cell_type": "code",
   "execution_count": 20,
   "id": "8f8c79a4",
   "metadata": {},
   "outputs": [],
   "source": [
    "# Observación: No se puede acceder por posición pues no considera indexación\n",
    "# Por ejemplo:\n",
    "# conjunto_aula[2] devolvería un mensaje de error"
   ]
  },
  {
   "cell_type": "code",
   "execution_count": 21,
   "id": "fa24ad4a",
   "metadata": {},
   "outputs": [
    {
     "data": {
      "text/plain": [
       "4"
      ]
     },
     "execution_count": 21,
     "metadata": {},
     "output_type": "execute_result"
    }
   ],
   "source": [
    "# Para saber la cantidad de elementos utilizamos len()\n",
    "len(conjunto_aula)"
   ]
  },
  {
   "cell_type": "code",
   "execution_count": 22,
   "id": "2291a2bd",
   "metadata": {},
   "outputs": [
    {
     "data": {
      "text/plain": [
       "{'Bernaola', 'Chipana', 'Gomez', 'Navarro', 'Palomino'}"
      ]
     },
     "execution_count": 22,
     "metadata": {},
     "output_type": "execute_result"
    }
   ],
   "source": [
    "# Para agregar utilizamos la función add()\n",
    "conjunto_aula.add(\"Palomino\")\n",
    "conjunto_aula"
   ]
  },
  {
   "cell_type": "code",
   "execution_count": 23,
   "id": "20b5862d",
   "metadata": {},
   "outputs": [
    {
     "data": {
      "text/plain": [
       "{2: 'Bernaola',\n",
       " '1': 'Chipana',\n",
       " 'dos': 'Gomez',\n",
       " '3': 'Navarro',\n",
       " '0': 'Palomino'}"
      ]
     },
     "execution_count": 23,
     "metadata": {},
     "output_type": "execute_result"
    }
   ],
   "source": [
    "# 1.4. Diccionarios\n",
    "# Es una colección de elementos, que están indexados,\n",
    "# no estan ordenados y se pueden modificar\n",
    "# Son escritos entre llaves y están formados por pares de elementos\n",
    "#  INDICE:VALOR\n",
    "diccionario_aula = {2:'Bernaola', '1':'Chipana', 'dos':'Gomez', '3':'Navarro',\n",
    "                    '0':'Palomino'}\n",
    "diccionario_aula"
   ]
  },
  {
   "cell_type": "code",
   "execution_count": 24,
   "id": "e7275462",
   "metadata": {},
   "outputs": [
    {
     "data": {
      "text/plain": [
       "'Palomino'"
      ]
     },
     "execution_count": 24,
     "metadata": {},
     "output_type": "execute_result"
    }
   ],
   "source": [
    "# Del Diccionario: diccionario_aula extraer el valor cuyo índice sea cero en String:\n",
    "diccionario_aula['0']"
   ]
  },
  {
   "cell_type": "code",
   "execution_count": 25,
   "id": "4925bce4",
   "metadata": {},
   "outputs": [
    {
     "data": {
      "text/plain": [
       "'Bernaola'"
      ]
     },
     "execution_count": 25,
     "metadata": {},
     "output_type": "execute_result"
    }
   ],
   "source": [
    "diccionario_aula[2]"
   ]
  },
  {
   "cell_type": "code",
   "execution_count": 26,
   "id": "1ce36173",
   "metadata": {},
   "outputs": [
    {
     "data": {
      "text/plain": [
       "'Gomez'"
      ]
     },
     "execution_count": 26,
     "metadata": {},
     "output_type": "execute_result"
    }
   ],
   "source": [
    "diccionario_aula[\"dos\"]"
   ]
  },
  {
   "cell_type": "code",
   "execution_count": 27,
   "id": "c2e42e41",
   "metadata": {},
   "outputs": [
    {
     "data": {
      "text/plain": [
       "{2: 'Bernaola',\n",
       " '1': 'Chipana',\n",
       " 'dos': 'Gomez',\n",
       " '3': 'Navarro',\n",
       " '0': 'Palomino',\n",
       " '20': 'Vilca'}"
      ]
     },
     "execution_count": 27,
     "metadata": {},
     "output_type": "execute_result"
    }
   ],
   "source": [
    "# Para añadir un par de elementos al diccionario hacemos:\n",
    "diccionario_aula['20'] = \"Vilca\"\n",
    "diccionario_aula"
   ]
  },
  {
   "cell_type": "code",
   "execution_count": 28,
   "id": "8231b1b4",
   "metadata": {},
   "outputs": [
    {
     "data": {
      "text/plain": [
       "{'1': 'Chipana',\n",
       " 'dos': 'Gomez',\n",
       " '3': 'Navarro',\n",
       " '0': 'Palomino',\n",
       " '20': 'Vilca'}"
      ]
     },
     "execution_count": 28,
     "metadata": {},
     "output_type": "execute_result"
    }
   ],
   "source": [
    "# Para eliminar un valor se utiliza pop()\n",
    "# Por ejemplo,eliminar el elmento de índice dos.ejemplo: Para eliminar a Bernaola que tendríamos que hacer:\n",
    "diccionario_aula.pop(2)\n",
    "diccionario_aula"
   ]
  },
  {
   "cell_type": "code",
   "execution_count": 29,
   "id": "cadeb918",
   "metadata": {},
   "outputs": [
    {
     "data": {
      "text/plain": [
       "{'1': 'Chipana', '3': 'Navarro', '0': 'Palomino', '20': 'Vilca'}"
      ]
     },
     "execution_count": 29,
     "metadata": {},
     "output_type": "execute_result"
    }
   ],
   "source": [
    "# Tambien se puede eliminar utilizando del()\n",
    "del(diccionario_aula[\"dos\"])\n",
    "diccionario_aula"
   ]
  },
  {
   "cell_type": "code",
   "execution_count": 30,
   "id": "8b1face2",
   "metadata": {},
   "outputs": [
    {
     "name": "stdout",
     "output_type": "stream",
     "text": [
      "1\n",
      "3\n",
      "0\n",
      "20\n"
     ]
    }
   ],
   "source": [
    "# Para recorrer todos los elementos podemos utilizar for\n",
    "# En este ejemplo devuelve los índices\n",
    "for indice in diccionario_aula:\n",
    "    print(indice)"
   ]
  },
  {
   "cell_type": "code",
   "execution_count": 31,
   "id": "e5e0b2b0",
   "metadata": {},
   "outputs": [
    {
     "name": "stdout",
     "output_type": "stream",
     "text": [
      "1 Chipana\n",
      "3 Navarro\n",
      "0 Palomino\n",
      "20 Vilca\n"
     ]
    }
   ],
   "source": [
    "# Para obtener el indice y el valor de cada elemento utilizamos items()\n",
    "for indice, valor in diccionario_aula.items():\n",
    "    print(indice, valor)"
   ]
  },
  {
   "cell_type": "code",
   "execution_count": 32,
   "id": "3e15eff5",
   "metadata": {},
   "outputs": [],
   "source": [
    "# 1.5. Ejercicio\n",
    "# Dado una lista de [BERNAL, BERNAOLA, CABALLERO, CALDERON, CARRASCO, CENTENO, CHALQUE, CHAVEZ, CONDORI, CRUZ, PALACIOS, PALOMINO, QUISPE, RAMOS, RODAS, SILVERA, TALAVERA, TINEO, VICTORIO, VILCA, ZEA]\n",
    "# Diseñar un código que muestre si el apellido de un estudiante (Ingresado por teclado) forma parte de la lista\n",
    "# tiempo: 12 minutos"
   ]
  },
  {
   "cell_type": "markdown",
   "id": "2be12719",
   "metadata": {},
   "source": [
    "*2*. Bucles y condiciones"
   ]
  },
  {
   "cell_type": "code",
   "execution_count": 33,
   "id": "582d58b1",
   "metadata": {},
   "outputs": [],
   "source": [
    "# 2.1 Estructuras Decisivas (if, elif, else)"
   ]
  },
  {
   "cell_type": "code",
   "execution_count": 34,
   "id": "fb5d4186",
   "metadata": {},
   "outputs": [],
   "source": [
    "# if\n",
    "# Problema: Dado el precio de 3 productos ingresados por el teclado, aplicar un descuento del 10% si la\n",
    "# venta es mayor o igual a 1000."
   ]
  },
  {
   "cell_type": "code",
   "execution_count": 35,
   "id": "07cc0039",
   "metadata": {
    "scrolled": false
   },
   "outputs": [
    {
     "name": "stdout",
     "output_type": "stream",
     "text": [
      "Producto 1: 1000\n",
      "Producto 2: 20\n",
      "Producto 3: 30\n",
      "El total a pagar es: 945.0\n"
     ]
    }
   ],
   "source": [
    "# Solución\n",
    "P1 = float(input(\"Producto 1: \"))\n",
    "P2 = float(input(\"Producto 2: \"))\n",
    "P3 = float(input(\"Producto 3: \"))\n",
    "total = P1 + P2 + P3\n",
    "if total>=1000:\n",
    "    total *= 0.9\n",
    "print(f\"El total a pagar es: {total}\")"
   ]
  },
  {
   "cell_type": "code",
   "execution_count": 36,
   "id": "6ebe444a",
   "metadata": {},
   "outputs": [],
   "source": [
    "# if-else"
   ]
  },
  {
   "cell_type": "code",
   "execution_count": 37,
   "id": "eb114a55",
   "metadata": {},
   "outputs": [],
   "source": [
    "# Problema 01 (Recordando)\n",
    "# Dado una lista de [BERNAL, BERNAOLA, CABALLERO, CALDERON, CARRASCO, CENTENO, CHALQUE, CHAVEZ, CONDORI, CRUZ, PALACIOS, PALOMINO, QUISPE, RAMOS, RODAS, SILVERA, TALAVERA, TINEO, VICTORIO, VILCA, ZEA]\n",
    "# Diseñar un código que muestre si el apellido de un estudiante (Ingresado por teclado) forma parte de la lista"
   ]
  },
  {
   "cell_type": "code",
   "execution_count": 38,
   "id": "a10dcaf7",
   "metadata": {},
   "outputs": [
    {
     "name": "stdout",
     "output_type": "stream",
     "text": [
      "Ingresa nombre a buscar: ramos\n",
      "Si está en la lista de LP3\n"
     ]
    }
   ],
   "source": [
    "# Solución:\n",
    "LP3 = [\"FIGUEROA\", \"BERNAOLA\", \"CABALLERO\", \"CALDERON\", \"CARRASCO\", \"CENTENO\", \"CHALQUE\", \"CHAVEZ\",\n",
    "       \"CONDORI\", \"CRUZ\", \"PALACIOS\", \"PALOMINO\", \"QUISPE\", \"RAMOS\", \"RODAS\", \"SILVERA\",\n",
    "       \"TALAVERA\", \"TINEO\", \"VICTORIO\", \"VILCA\", \"ZEA\"]\n",
    "\n",
    "apellido = input(\"Ingresa nombre a buscar: \")\n",
    "\n",
    "# Como los datos de la lista están en mayúscula, utilizo upper()\n",
    "if apellido.upper() in LP3:\n",
    "    print(\"Si está en la lista de LP3\")\n",
    "else:\n",
    "    print(\"No está en la lista de LP3\")"
   ]
  },
  {
   "cell_type": "code",
   "execution_count": 39,
   "id": "3298c7f5",
   "metadata": {},
   "outputs": [],
   "source": [
    "# Problema 02\n",
    "# Dado el importe total de ventas realizadas por un trabajador (ingresado por teclado,\n",
    "# categorizar que tipo de empleado es, considerando la siguiente tabla:\n",
    "\n",
    "# Categoria: A -> [0, 1000]\n",
    "# Categoria: B -> <1000, 2000]\n",
    "# Categoria: C -> <2000, 5000]\n",
    "# Categoría: D -> <5000, Mas]\n",
    "\n",
    "# Tiempo asignado: 12 minutos"
   ]
  },
  {
   "cell_type": "code",
   "execution_count": 40,
   "id": "32496257",
   "metadata": {},
   "outputs": [
    {
     "name": "stdout",
     "output_type": "stream",
     "text": [
      "Importe de ventas realizadas: 10000\n",
      "Categoria D\n"
     ]
    }
   ],
   "source": [
    "# Solución\n",
    "ventas = float(input(\"Importe de ventas realizadas: \"))\n",
    "if ventas < 0:\n",
    "    print(\"Datos erroneos\")\n",
    "else:\n",
    "    if ventas<=1000:\n",
    "        print(\"Categoria A\")\n",
    "    else:\n",
    "        if ventas <=2000:\n",
    "            print(\"Categoria B\")\n",
    "        else:\n",
    "            if ventas <= 5000:\n",
    "                print(\"Categoria C\")\n",
    "            else:\n",
    "                print(\"Categoria D\")\n"
   ]
  },
  {
   "cell_type": "code",
   "execution_count": 41,
   "id": "e5204173",
   "metadata": {},
   "outputs": [],
   "source": [
    "# elif\n",
    "# Problema 03, Solucionar el problema anterior utilizando elif\n",
    "\n",
    "# Dado el importe total de ventas realizadas por un trabajador (ingresado por teclado,\n",
    "# categorizar que tipo de empleado es, considerando la siguiente tabla:\n",
    "\n",
    "# Categoria: A -> [0, 1000]\n",
    "# Categoria: B -> <1000, 2000]\n",
    "# Categoria: C -> <2000, 5000]\n",
    "# Categoría: D -> <5000, Mas]\n",
    "\n",
    "# Tiempo asignado: 12 minutos"
   ]
  },
  {
   "cell_type": "code",
   "execution_count": 42,
   "id": "b8b9ea8d",
   "metadata": {},
   "outputs": [
    {
     "name": "stdout",
     "output_type": "stream",
     "text": [
      "Importe de ventas realizadas: 10000\n",
      "Categoria D\n"
     ]
    }
   ],
   "source": [
    "# Solución\n",
    "\n",
    "ventas = float(input(\"Importe de ventas realizadas: \"))\n",
    "if ventas < 0:\n",
    "    print(\"Datos erroneos\")\n",
    "elif ventas<=1000:\n",
    "    print(\"Categoria A\")\n",
    "elif ventas <=2000:\n",
    "    print(\"Categoria B\")\n",
    "elif ventas <= 5000:\n",
    "    print(\"Categoria C\")\n",
    "else:\n",
    "    print(\"Categoria D\")"
   ]
  },
  {
   "cell_type": "code",
   "execution_count": 43,
   "id": "aa8da356",
   "metadata": {},
   "outputs": [],
   "source": [
    "# 2.2 Estructuras repetitivas"
   ]
  },
  {
   "cell_type": "code",
   "execution_count": 44,
   "id": "9d027166",
   "metadata": {},
   "outputs": [],
   "source": [
    "# for"
   ]
  },
  {
   "cell_type": "code",
   "execution_count": 45,
   "id": "9d6f99aa",
   "metadata": {},
   "outputs": [],
   "source": [
    "# Problema 01:\n",
    "# Mostrar los elementos de una lista utilizando for"
   ]
  },
  {
   "cell_type": "code",
   "execution_count": 46,
   "id": "2d8d9bdf",
   "metadata": {},
   "outputs": [
    {
     "name": "stdout",
     "output_type": "stream",
     "text": [
      "Bernaola\n",
      "Chipana\n",
      "Gomez\n",
      "Navarro\n"
     ]
    }
   ],
   "source": [
    "# Solución\n",
    "aula = ['Bernaola','Chipana','Gomez','Navarro']\n",
    "\n",
    "# Por cada alumno que está en la lista, imprimir alumno\n",
    "for alumno in aula:\n",
    "    print(alumno)"
   ]
  },
  {
   "cell_type": "code",
   "execution_count": 47,
   "id": "3e41927a",
   "metadata": {},
   "outputs": [],
   "source": [
    "# Problema 02:\n",
    "# Dado una cadena ingresado por teclado, mostrar cada caracter de la cadena, utilizando la estructura for"
   ]
  },
  {
   "cell_type": "code",
   "execution_count": 48,
   "id": "4c92e5ed",
   "metadata": {},
   "outputs": [
    {
     "name": "stdout",
     "output_type": "stream",
     "text": [
      "Ingrese Cadena:En todo tiempo ama el amigo. Prov 17:17\n",
      "E\n",
      "n\n",
      " \n",
      "t\n",
      "o\n",
      "d\n",
      "o\n",
      " \n",
      "t\n",
      "i\n",
      "e\n",
      "m\n",
      "p\n",
      "o\n",
      " \n",
      "a\n",
      "m\n",
      "a\n",
      " \n",
      "e\n",
      "l\n",
      " \n",
      "a\n",
      "m\n",
      "i\n",
      "g\n",
      "o\n",
      ".\n",
      " \n",
      "P\n",
      "r\n",
      "o\n",
      "v\n",
      " \n",
      "1\n",
      "7\n",
      ":\n",
      "1\n",
      "7\n"
     ]
    }
   ],
   "source": [
    "# Solución\n",
    "cadena = input(\"Ingrese Cadena:\")\n",
    "for caracter in cadena:\n",
    "    print(caracter)"
   ]
  },
  {
   "cell_type": "code",
   "execution_count": 49,
   "id": "08ab2429",
   "metadata": {},
   "outputs": [
    {
     "data": {
      "text/plain": [
       "range(0, 5)"
      ]
     },
     "execution_count": 49,
     "metadata": {},
     "output_type": "execute_result"
    }
   ],
   "source": [
    "# Para generar rangos de números utilizamos range()\n",
    "range(5)\n",
    "# [0, 5>"
   ]
  },
  {
   "cell_type": "code",
   "execution_count": 50,
   "id": "0c5f2a9d",
   "metadata": {},
   "outputs": [
    {
     "name": "stdout",
     "output_type": "stream",
     "text": [
      "0\n",
      "1\n",
      "2\n",
      "3\n",
      "4\n",
      "5\n",
      "6\n",
      "7\n",
      "8\n",
      "9\n",
      "10\n"
     ]
    }
   ],
   "source": [
    "# Problema 02\n",
    "# Imprimir los números de 0 a 10, utilizando for\n",
    "for numero in range(11):\n",
    "    print (numero)"
   ]
  },
  {
   "cell_type": "code",
   "execution_count": 51,
   "id": "aebe70d6",
   "metadata": {},
   "outputs": [
    {
     "name": "stdout",
     "output_type": "stream",
     "text": [
      "5\n",
      "6\n",
      "7\n",
      "8\n",
      "9\n",
      "10\n"
     ]
    }
   ],
   "source": [
    "# Problema 03\n",
    "# Imprimir los números de 5 a 10, utilizando for\n",
    "for numero in range(5,11):\n",
    "    print (numero)"
   ]
  },
  {
   "cell_type": "code",
   "execution_count": 52,
   "id": "3970cd8e",
   "metadata": {},
   "outputs": [
    {
     "name": "stdout",
     "output_type": "stream",
     "text": [
      "10\n",
      "12\n",
      "14\n",
      "16\n",
      "18\n",
      "20\n"
     ]
    }
   ],
   "source": [
    "# Problema 02\n",
    "# Imprimir los números de 10 a 20, utilizando for\n",
    "for numero in range(10, 22, 2):\n",
    "    print (numero)"
   ]
  },
  {
   "cell_type": "code",
   "execution_count": 53,
   "id": "3a476800",
   "metadata": {},
   "outputs": [],
   "source": [
    "# Tambien funcionan los bucles anidados:"
   ]
  },
  {
   "cell_type": "code",
   "execution_count": 54,
   "id": "8120ba4f",
   "metadata": {},
   "outputs": [],
   "source": [
    "# Problema 03\n",
    "# Dado una lista de números, utilizando el algoritmo de burbuja ordenarlos de menor a mayor\n",
    "# Tiempo asignado: 12 minutos\n",
    "\n",
    "# Codigo en java\n",
    "# package ordenamiento;\n",
    "# public class burbuja {\n",
    "#    public static void main(String[] args) {\n",
    "#        int temp;\n",
    "#        int lista[]={12,5,1,4,10,0};\n",
    "#        for(int i=0;i<lista.length-1;i++){\n",
    "#            for(int j=i+1; j<lista.length; j++){\n",
    "#                if(lista[i]>lista[j]){\n",
    "#                    temp = lista[i];\n",
    "#                    lista[i] = lista[j];\n",
    "#                    lista[j] = temp;\n",
    "#                }\n",
    "#            }\n",
    "#        }\n",
    "#        System.out.println(\"Lista ordenada\");\n",
    "#        for(int a=0; a<lista.length; a++){\n",
    "#                    System.out.print(lista[a] + \" \");\n",
    "#        }\n",
    "#    }\n",
    "# }"
   ]
  },
  {
   "cell_type": "code",
   "execution_count": 11,
   "id": "845b8cb3",
   "metadata": {},
   "outputs": [
    {
     "name": "stdout",
     "output_type": "stream",
     "text": [
      "Lista inicial: \n",
      "[10, 20, 5, -10, 100, 0, 50, 17, 2000, -1000, 0]\n",
      "i: 0 - j:1 = [10, 20, 5, -10, 100, 0, 50, 17, 2000, -1000, 0]\n",
      "i: 0 - j:2 = [5, 20, 10, -10, 100, 0, 50, 17, 2000, -1000, 0]\n",
      "i: 0 - j:3 = [-10, 20, 10, 5, 100, 0, 50, 17, 2000, -1000, 0]\n",
      "i: 0 - j:4 = [-10, 20, 10, 5, 100, 0, 50, 17, 2000, -1000, 0]\n",
      "i: 0 - j:5 = [-10, 20, 10, 5, 100, 0, 50, 17, 2000, -1000, 0]\n",
      "i: 0 - j:6 = [-10, 20, 10, 5, 100, 0, 50, 17, 2000, -1000, 0]\n",
      "i: 0 - j:7 = [-10, 20, 10, 5, 100, 0, 50, 17, 2000, -1000, 0]\n",
      "i: 0 - j:8 = [-10, 20, 10, 5, 100, 0, 50, 17, 2000, -1000, 0]\n",
      "i: 0 - j:9 = [-1000, 20, 10, 5, 100, 0, 50, 17, 2000, -10, 0]\n",
      "i: 0 - j:10 = [-1000, 20, 10, 5, 100, 0, 50, 17, 2000, -10, 0]\n",
      "i: 1 - j:2 = [-1000, 10, 20, 5, 100, 0, 50, 17, 2000, -10, 0]\n",
      "i: 1 - j:3 = [-1000, 5, 20, 10, 100, 0, 50, 17, 2000, -10, 0]\n",
      "i: 1 - j:4 = [-1000, 5, 20, 10, 100, 0, 50, 17, 2000, -10, 0]\n",
      "i: 1 - j:5 = [-1000, 0, 20, 10, 100, 5, 50, 17, 2000, -10, 0]\n",
      "i: 1 - j:6 = [-1000, 0, 20, 10, 100, 5, 50, 17, 2000, -10, 0]\n",
      "i: 1 - j:7 = [-1000, 0, 20, 10, 100, 5, 50, 17, 2000, -10, 0]\n",
      "i: 1 - j:8 = [-1000, 0, 20, 10, 100, 5, 50, 17, 2000, -10, 0]\n",
      "i: 1 - j:9 = [-1000, -10, 20, 10, 100, 5, 50, 17, 2000, 0, 0]\n",
      "i: 1 - j:10 = [-1000, -10, 20, 10, 100, 5, 50, 17, 2000, 0, 0]\n",
      "i: 2 - j:3 = [-1000, -10, 10, 20, 100, 5, 50, 17, 2000, 0, 0]\n",
      "i: 2 - j:4 = [-1000, -10, 10, 20, 100, 5, 50, 17, 2000, 0, 0]\n",
      "i: 2 - j:5 = [-1000, -10, 5, 20, 100, 10, 50, 17, 2000, 0, 0]\n",
      "i: 2 - j:6 = [-1000, -10, 5, 20, 100, 10, 50, 17, 2000, 0, 0]\n",
      "i: 2 - j:7 = [-1000, -10, 5, 20, 100, 10, 50, 17, 2000, 0, 0]\n",
      "i: 2 - j:8 = [-1000, -10, 5, 20, 100, 10, 50, 17, 2000, 0, 0]\n",
      "i: 2 - j:9 = [-1000, -10, 0, 20, 100, 10, 50, 17, 2000, 5, 0]\n",
      "i: 2 - j:10 = [-1000, -10, 0, 20, 100, 10, 50, 17, 2000, 5, 0]\n",
      "i: 3 - j:4 = [-1000, -10, 0, 20, 100, 10, 50, 17, 2000, 5, 0]\n",
      "i: 3 - j:5 = [-1000, -10, 0, 10, 100, 20, 50, 17, 2000, 5, 0]\n",
      "i: 3 - j:6 = [-1000, -10, 0, 10, 100, 20, 50, 17, 2000, 5, 0]\n",
      "i: 3 - j:7 = [-1000, -10, 0, 10, 100, 20, 50, 17, 2000, 5, 0]\n",
      "i: 3 - j:8 = [-1000, -10, 0, 10, 100, 20, 50, 17, 2000, 5, 0]\n",
      "i: 3 - j:9 = [-1000, -10, 0, 5, 100, 20, 50, 17, 2000, 10, 0]\n",
      "i: 3 - j:10 = [-1000, -10, 0, 0, 100, 20, 50, 17, 2000, 10, 5]\n",
      "i: 4 - j:5 = [-1000, -10, 0, 0, 20, 100, 50, 17, 2000, 10, 5]\n",
      "i: 4 - j:6 = [-1000, -10, 0, 0, 20, 100, 50, 17, 2000, 10, 5]\n",
      "i: 4 - j:7 = [-1000, -10, 0, 0, 17, 100, 50, 20, 2000, 10, 5]\n",
      "i: 4 - j:8 = [-1000, -10, 0, 0, 17, 100, 50, 20, 2000, 10, 5]\n",
      "i: 4 - j:9 = [-1000, -10, 0, 0, 10, 100, 50, 20, 2000, 17, 5]\n",
      "i: 4 - j:10 = [-1000, -10, 0, 0, 5, 100, 50, 20, 2000, 17, 10]\n",
      "i: 5 - j:6 = [-1000, -10, 0, 0, 5, 50, 100, 20, 2000, 17, 10]\n",
      "i: 5 - j:7 = [-1000, -10, 0, 0, 5, 20, 100, 50, 2000, 17, 10]\n",
      "i: 5 - j:8 = [-1000, -10, 0, 0, 5, 20, 100, 50, 2000, 17, 10]\n",
      "i: 5 - j:9 = [-1000, -10, 0, 0, 5, 17, 100, 50, 2000, 20, 10]\n",
      "i: 5 - j:10 = [-1000, -10, 0, 0, 5, 10, 100, 50, 2000, 20, 17]\n",
      "i: 6 - j:7 = [-1000, -10, 0, 0, 5, 10, 50, 100, 2000, 20, 17]\n",
      "i: 6 - j:8 = [-1000, -10, 0, 0, 5, 10, 50, 100, 2000, 20, 17]\n",
      "i: 6 - j:9 = [-1000, -10, 0, 0, 5, 10, 20, 100, 2000, 50, 17]\n",
      "i: 6 - j:10 = [-1000, -10, 0, 0, 5, 10, 17, 100, 2000, 50, 20]\n",
      "i: 7 - j:8 = [-1000, -10, 0, 0, 5, 10, 17, 100, 2000, 50, 20]\n",
      "i: 7 - j:9 = [-1000, -10, 0, 0, 5, 10, 17, 50, 2000, 100, 20]\n",
      "i: 7 - j:10 = [-1000, -10, 0, 0, 5, 10, 17, 20, 2000, 100, 50]\n",
      "i: 8 - j:9 = [-1000, -10, 0, 0, 5, 10, 17, 20, 100, 2000, 50]\n",
      "i: 8 - j:10 = [-1000, -10, 0, 0, 5, 10, 17, 20, 50, 2000, 100]\n",
      "i: 9 - j:10 = [-1000, -10, 0, 0, 5, 10, 17, 20, 50, 100, 2000]\n",
      "Lista ordena:\n",
      "[-1000, -10, 0, 0, 5, 10, 17, 20, 50, 100, 2000]\n"
     ]
    }
   ],
   "source": [
    "# Solución\n",
    "print(\"Lista inicial: \")\n",
    "lista = [10, 20, 5, -10, 100, 0 , 50, 17, 2000,-1000,0]\n",
    "print(lista)\n",
    "i=0\n",
    "for i in range(0,len(lista)-1):\n",
    "    for j in range(i+1,len(lista)):\n",
    "        if lista[i]>lista[j]:\n",
    "            temp = lista[i]\n",
    "            lista[i] = lista[j]\n",
    "            lista[j] = temp  \n",
    "        print(\"i: {} - j:{} = {}\".format(i,j,lista))\n",
    "print(\"Lista ordena:\")\n",
    "print(lista)"
   ]
  },
  {
   "cell_type": "code",
   "execution_count": 56,
   "id": "0c6a80c9",
   "metadata": {},
   "outputs": [],
   "source": [
    "# while\n",
    "# Permite ejecutar un conjunto de acciones mientras se cumpla una condición"
   ]
  },
  {
   "cell_type": "code",
   "execution_count": 57,
   "id": "e655cc53",
   "metadata": {},
   "outputs": [
    {
     "name": "stdout",
     "output_type": "stream",
     "text": [
      "1\n",
      "2\n",
      "3\n",
      "4\n",
      "5\n",
      "6\n",
      "7\n",
      "8\n",
      "9\n",
      "10\n"
     ]
    }
   ],
   "source": [
    "# Ejemplo:\n",
    "numero = 1\n",
    "fin = 10\n",
    "while numero <= fin:\n",
    "    print(numero)\n",
    "    numero+=1\n"
   ]
  },
  {
   "cell_type": "markdown",
   "id": "ca2794a2",
   "metadata": {},
   "source": [
    "3. Funciones"
   ]
  },
  {
   "cell_type": "code",
   "execution_count": 59,
   "id": "eb07c287",
   "metadata": {},
   "outputs": [],
   "source": [
    "# También conocidos como métodos\n",
    "\n",
    "# Para crear un método utilizamos: def\n",
    "# Tenemos 4 métodos:\n",
    "# - Métodos vacíos\n",
    "# - Métodos que reciben valores\n",
    "# - Métodos que devuelven un valor\n",
    "# - Métodos que reciben y devuelven valores"
   ]
  },
  {
   "cell_type": "code",
   "execution_count": 60,
   "id": "56698fbf",
   "metadata": {},
   "outputs": [],
   "source": [
    "# 3.1 Métodos vacíos\n",
    "# Explicación: No recibe valores (Parámetros)\n",
    "\n",
    "def saludo():\n",
    "    print(\"Bienvenidos al curso de LP3\")\n",
    "    print(\"**** Python ****\")"
   ]
  },
  {
   "cell_type": "code",
   "execution_count": 61,
   "id": "d85d2870",
   "metadata": {},
   "outputs": [
    {
     "name": "stdout",
     "output_type": "stream",
     "text": [
      "Bienvenidos al curso de LP3\n",
      "**** Python ****\n"
     ]
    }
   ],
   "source": [
    "saludo()"
   ]
  },
  {
   "cell_type": "code",
   "execution_count": 62,
   "id": "9ccbd290",
   "metadata": {},
   "outputs": [],
   "source": [
    "# 3.2 Métodos que reciben valores\n",
    "\n",
    "def factorial(numero):\n",
    "    fac = 1\n",
    "    for i in range(1,numero+1):\n",
    "        fac*=i\n",
    "        # fac = fac*i\n",
    "    print(f\"El factorial es: {fac}\")"
   ]
  },
  {
   "cell_type": "code",
   "execution_count": 63,
   "id": "c53f79bb",
   "metadata": {},
   "outputs": [
    {
     "name": "stdout",
     "output_type": "stream",
     "text": [
      "Ingrese Numero: 10\n",
      "El factorial es: 3628800\n"
     ]
    }
   ],
   "source": [
    "numero = int(input(\"Ingrese Numero: \"))\n",
    "factorial(numero)"
   ]
  },
  {
   "cell_type": "code",
   "execution_count": 64,
   "id": "7e20f41e",
   "metadata": {},
   "outputs": [],
   "source": [
    "# 3.3 Métodos que devuelven valores\n",
    "def saludo2():\n",
    "    mensaje = \"Bienvenidos a LP3\"\n",
    "    return mensaje"
   ]
  },
  {
   "cell_type": "code",
   "execution_count": 65,
   "id": "16a747c3",
   "metadata": {},
   "outputs": [
    {
     "name": "stdout",
     "output_type": "stream",
     "text": [
      "Bienvenidos a LP3\n"
     ]
    }
   ],
   "source": [
    "print(saludo2())"
   ]
  },
  {
   "cell_type": "code",
   "execution_count": 66,
   "id": "eb758e8b",
   "metadata": {},
   "outputs": [],
   "source": [
    "# 3.4 Métodos que reciben y devuelven valores\n",
    "\n",
    "def factorial2(numero):\n",
    "    fac = 1\n",
    "    for i in range(1,numero+1):\n",
    "        fac*=i\n",
    "        # fac = fac*i\n",
    "    return fac"
   ]
  },
  {
   "cell_type": "code",
   "execution_count": 67,
   "id": "96429ad3",
   "metadata": {},
   "outputs": [
    {
     "name": "stdout",
     "output_type": "stream",
     "text": [
      "Numero: 10\n",
      "El factorial de 10 es 3628800\n"
     ]
    }
   ],
   "source": [
    "numero = int(input(\"Numero: \"))\n",
    "print(f\"El factorial de {numero} es {factorial2(numero)}\")"
   ]
  },
  {
   "cell_type": "code",
   "execution_count": 68,
   "id": "4b2da5fb",
   "metadata": {},
   "outputs": [],
   "source": [
    "# Otro ejemplo\n",
    "# Calcular el IGV\n",
    "def obtenerigv(importe):\n",
    "    return importe*0.19"
   ]
  },
  {
   "cell_type": "code",
   "execution_count": 69,
   "id": "6f472a9f",
   "metadata": {},
   "outputs": [
    {
     "data": {
      "text/plain": [
       "28.5"
      ]
     },
     "execution_count": 69,
     "metadata": {},
     "output_type": "execute_result"
    }
   ],
   "source": [
    "obtenerigv(150)"
   ]
  },
  {
   "cell_type": "code",
   "execution_count": 70,
   "id": "fa4dde30",
   "metadata": {},
   "outputs": [
    {
     "data": {
      "text/plain": [
       "140"
      ]
     },
     "execution_count": 70,
     "metadata": {},
     "output_type": "execute_result"
    }
   ],
   "source": [
    "factorial2(5)+20"
   ]
  },
  {
   "cell_type": "markdown",
   "id": "ec21181c",
   "metadata": {},
   "source": [
    "4. Clases y Objetos"
   ]
  },
  {
   "cell_type": "code",
   "execution_count": 71,
   "id": "8dd94337",
   "metadata": {},
   "outputs": [],
   "source": [
    "# Problema 01\n",
    "\n",
    "# Crear la siguiente clase:\n",
    "#   - Clase: Persona\n",
    "#   - Atributos: nombre, apellido, fecha_nacimiento, dni"
   ]
  },
  {
   "cell_type": "code",
   "execution_count": 72,
   "id": "fe5077d0",
   "metadata": {},
   "outputs": [],
   "source": [
    "class Persona:\n",
    "    nombre = \"\"\n",
    "    apellidos = \"\"\n",
    "    dni = \"\"\n",
    "    talla = 0"
   ]
  },
  {
   "cell_type": "code",
   "execution_count": 73,
   "id": "aaa2ea49",
   "metadata": {},
   "outputs": [
    {
     "name": "stdout",
     "output_type": "stream",
     "text": [
      "persona1\n",
      "Nombre: Orlando\n",
      "Apellidos: Perez Prado\n",
      "DNI: 12345678\n",
      "Talla: 1.7\n"
     ]
    }
   ],
   "source": [
    "# Creamos un objeto persona1 de la clase Persona()\n",
    "# y le asignamos valores\n",
    "\n",
    "#Creación del objeto persona1\n",
    "persona1 = Persona()\n",
    "\n",
    "# Asignamos valores al objeto\n",
    "persona1.nombre = \"Orlando\"\n",
    "persona1.apellidos = \"Perez Prado\"\n",
    "persona1.dni = \"12345678\"\n",
    "persona1.talla = 1.7\n",
    "\n",
    "# Para mostrar valores del objeto:\n",
    "print(\"persona1\")\n",
    "print(f\"Nombre: {persona1.nombre}\")\n",
    "print(f\"Apellidos: {persona1.apellidos}\")\n",
    "print(f\"DNI: {persona1.dni}\")\n",
    "print(f\"Talla: {persona1.talla}\")\n"
   ]
  },
  {
   "cell_type": "code",
   "execution_count": 74,
   "id": "320f4f67",
   "metadata": {},
   "outputs": [],
   "source": [
    "# Para utilizar constructores utilizamos: __init__\n",
    "# ¿Qué es un constructor?\n",
    "# - Es un método\n",
    "# - Sirve para inicializar valores a una clase"
   ]
  },
  {
   "cell_type": "code",
   "execution_count": 75,
   "id": "3452068c",
   "metadata": {},
   "outputs": [],
   "source": [
    "#Problema 02:\n",
    "\n",
    "# Crear la siguiente clase y utilizar constructores:\n",
    "#  - Clase: Curso\n",
    "#  - Atributos: Codigo, Nombre, horas, creditos,"
   ]
  },
  {
   "cell_type": "code",
   "execution_count": 77,
   "id": "6734a035",
   "metadata": {},
   "outputs": [],
   "source": [
    "# Solución:\n",
    "class curso:\n",
    "    def __init__(self, codigo, nombre, horas, creditos):\n",
    "        self.codigo = codigo\n",
    "        self.nombre = nombre\n",
    "        self.horas = horas\n",
    "        self.creditos = creditos\n",
    "\n",
    "    def mostrar_datos_curso(self):\n",
    "        print(f\"Curso: {self.nombre}\")\n",
    "        print(f\"Código: {self.codigo}\")\n",
    "        print(f\"Horas: {self.horas}\")\n",
    "        print(f\"Créditos: {self.creditos}\")"
   ]
  },
  {
   "cell_type": "code",
   "execution_count": 78,
   "id": "65fa1815",
   "metadata": {},
   "outputs": [],
   "source": [
    "# Creamos el objeto curso1 y le mandamos parámetros\n",
    "curso1 = curso(\"C0501\",\"LP3\",6,3)"
   ]
  },
  {
   "cell_type": "code",
   "execution_count": 79,
   "id": "403d0288",
   "metadata": {},
   "outputs": [
    {
     "name": "stdout",
     "output_type": "stream",
     "text": [
      "Curso: LP3\n",
      "Código: C0501\n",
      "Horas: 6\n",
      "Créditos: 3\n"
     ]
    }
   ],
   "source": [
    "# Mostramos los datos completos del curso, ejecutando el metodo mostrar_datos_curso()\n",
    "curso1.mostrar_datos_curso();"
   ]
  },
  {
   "cell_type": "code",
   "execution_count": null,
   "id": "5bb17dc9",
   "metadata": {},
   "outputs": [],
   "source": []
  }
 ],
 "metadata": {
  "kernelspec": {
   "display_name": "Python 3 (ipykernel)",
   "language": "python",
   "name": "python3"
  },
  "language_info": {
   "codemirror_mode": {
    "name": "ipython",
    "version": 3
   },
   "file_extension": ".py",
   "mimetype": "text/x-python",
   "name": "python",
   "nbconvert_exporter": "python",
   "pygments_lexer": "ipython3",
   "version": "3.9.13"
  }
 },
 "nbformat": 4,
 "nbformat_minor": 5
}
